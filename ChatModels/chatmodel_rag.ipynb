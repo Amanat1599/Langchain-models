{
 "cells": [
  {
   "cell_type": "code",
   "execution_count": 1,
   "metadata": {},
   "outputs": [
    {
     "name": "stdout",
     "output_type": "stream",
     "text": [
      "Hellow world\n"
     ]
    }
   ],
   "source": [
    "print(\"Hellow world\")"
   ]
  },
  {
   "cell_type": "code",
   "execution_count": 1,
   "metadata": {},
   "outputs": [
    {
     "data": {
      "text/plain": [
       "True"
      ]
     },
     "execution_count": 1,
     "metadata": {},
     "output_type": "execute_result"
    }
   ],
   "source": [
    "from langchain_huggingface import ChatHuggingFace,HuggingFaceEndpoint\n",
    "from dotenv import load_dotenv\n",
    "load_dotenv()"
   ]
  },
  {
   "cell_type": "code",
   "execution_count": 2,
   "metadata": {},
   "outputs": [
    {
     "name": "stderr",
     "output_type": "stream",
     "text": [
      "d:\\Langchain_models\\venv\\Lib\\site-packages\\tqdm\\auto.py:21: TqdmWarning: IProgress not found. Please update jupyter and ipywidgets. See https://ipywidgets.readthedocs.io/en/stable/user_install.html\n",
      "  from .autonotebook import tqdm as notebook_tqdm\n"
     ]
    }
   ],
   "source": [
    "lama_face = HuggingFaceEndpoint(\n",
    "    repo_id=\"TinyLlama/TinyLlama-1.1B-Chat-v1.0\",  \n",
    "    task=\"text-generation\",  \n",
    ")\n",
    "model = ChatHuggingFace(llm=lama_face)"
   ]
  },
  {
   "cell_type": "code",
   "execution_count": 3,
   "metadata": {},
   "outputs": [
    {
     "name": "stdout",
     "output_type": "stream",
     "text": [
      "The capital of Pakistan is Islamabad, located in the southwestern region of the country. Islamabad is also its capital.\n",
      "\n",
      "Note: Capital of Pakistan is usually abbreviated as IBR, erroneously shortening it to \"IBR\" (Islamabad, Bypass Road) by mistake. This has no official meaning or significance and should be avoided.\n",
      "\n",
      "Sources:\n",
      "- Pakistan Federal Union Council (PFUCon, 2021). Key Points of the Federal Union. Accessed October 2, 2021. https://pfucon.pk/key-points-federal-union/\n",
      "- Statistics Pakistan. 2018. Pakistan Economic Survey. Accessed on October 3, 2021. http://www.statistics.gov.pk/pcserv/Frequen_Econ_Summ.html\n"
     ]
    }
   ],
   "source": [
    "model = ChatHuggingFace(llm=lama_face)\n",
    "\n",
    "result = model.invoke(\"what is the capital of Pakistan?\")\n",
    "print(result.content)"
   ]
  },
  {
   "cell_type": "code",
   "execution_count": 4,
   "metadata": {},
   "outputs": [
    {
     "name": "stdout",
     "output_type": "stream",
     "text": [
      "content='Reliable ***** joke: \\n \\n Two guys are walking down the street when a ** sink.\\n \\n The friend asked in puzzled.\\n \\n One Guy: \\n   \"What\\'s that metal thing you have five holes through?\"\\n \\n The friend: \\n   \"Oh, it\\'s a sink, that\\'s why it\\'s got five holes.\"\\n \\n The second guy smirks.\\n \\n The other guy: \\n   \"Really? Oh, well, that\\'s a different skill.\"\\n \\n The first guy turns to the second guy.\\n \\n The second guy: \\n   \"What about the one missing hole in this bathroom?\"\\n \\n The first guy followed behind the second guy.\\n \\n The second guy: \\n   \"Oh, you know, it might be a clock.\"\\n \\n \\nClick! The first guy stops dead in his steps.\\n \\n The second guy looks at him, and then grins.\\n \\n \"Yep, a clock too,\" he said.' additional_kwargs={} response_metadata={'token_usage': ChatCompletionOutputUsage(completion_tokens=243, prompt_tokens=28, total_tokens=271), 'model': '', 'finish_reason': 'stop'} id='run-b464ad0d-1866-4417-b5d6-c68b7c58297b-0'\n"
     ]
    }
   ],
   "source": [
    "result2=model.invoke(\"Tell me a joke\")\n",
    "print(result2)"
   ]
  },
  {
   "cell_type": "code",
   "execution_count": 5,
   "metadata": {},
   "outputs": [
    {
     "data": {
      "text/plain": [
       "'Reliable ***** joke: \\n \\n Two guys are walking down the street when a ** sink.\\n \\n The friend asked in puzzled.\\n \\n One Guy: \\n   \"What\\'s that metal thing you have five holes through?\"\\n \\n The friend: \\n   \"Oh, it\\'s a sink, that\\'s why it\\'s got five holes.\"\\n \\n The second guy smirks.\\n \\n The other guy: \\n   \"Really? Oh, well, that\\'s a different skill.\"\\n \\n The first guy turns to the second guy.\\n \\n The second guy: \\n   \"What about the one missing hole in this bathroom?\"\\n \\n The first guy followed behind the second guy.\\n \\n The second guy: \\n   \"Oh, you know, it might be a clock.\"\\n \\n \\nClick! The first guy stops dead in his steps.\\n \\n The second guy looks at him, and then grins.\\n \\n \"Yep, a clock too,\" he said.'"
      ]
     },
     "execution_count": 5,
     "metadata": {},
     "output_type": "execute_result"
    }
   ],
   "source": [
    "result2.content"
   ]
  },
  {
   "cell_type": "code",
   "execution_count": 6,
   "metadata": {},
   "outputs": [],
   "source": [
    "from langchain_core.prompts import ChatPromptTemplate\n",
    "prompt = ChatPromptTemplate.from_template(\"Tell me a short joke about {topic}\")\n",
    "prompt_template = prompt.invoke({\"topic\":\"programming\"})"
   ]
  },
  {
   "cell_type": "code",
   "execution_count": 7,
   "metadata": {},
   "outputs": [
    {
     "data": {
      "text/plain": [
       "ChatPromptValue(messages=[HumanMessage(content='Tell me a short joke about programming', additional_kwargs={}, response_metadata={})])"
      ]
     },
     "execution_count": 7,
     "metadata": {},
     "output_type": "execute_result"
    }
   ],
   "source": [
    "prompt_template"
   ]
  },
  {
   "cell_type": "code",
   "execution_count": 9,
   "metadata": {},
   "outputs": [
    {
     "data": {
      "text/plain": [
       "AIMessage(content='Joke:\\nThere was a poor farmer named Jack who had never been to the doctor. One day, as Jack was tending to his crops, he decided to take a look at his stomach. \\n\\nThe farmer took a deep breath and pulled the medicine chest out of his cow. \"Here,\" he said, \"take this pickle and sip slowly.\"\\n\\nJack gulped down the pickle, taste sweet and sour. \"Now, take a look,\" said Jack, \"and lift up my shirt. I want a good smell of my pubic hair,\"\\n\\nThe farmer opened his shirt to see muddy cysts. \"Now see – a real cause of stomach pains,\" said Jack, smiling.\\n\\nJack took another sip of the pickle and sat back in his chair. \"Well,\" he laughed, \"I never would have thought a little bit of mustard could cause my pain and discomfort.\" \\n\\nThe farmer chuckled and continued with his work, but the next day, he was down to his last few pickles. Then, something unexpected happened. Jack remembered his mother\\'s wisdom: take care of your health, or she\\'ll take care of you. The farmer started going to the doctor for the rest of his life.\\n\\n\"Now, finally,\" said the doctor, after examining the farmer with the x-ray machine, \"you seem to have no problems, but I\\'d like to warn you of a potential complication in the future. You have stomach ulcers.\"\\n\\n\"Ulcer?\" How could doctors have mentioned this as a complication? But the farmer didn\\'t want to rumys his life over some small injury. He was convinced that doctors only heard words that exaggerated the results of his treatment.\\n\\nBut before the farmer could say a word, there was a loud blow to his kitchen.\\n\\n\"Did you hear that?\" a man shouted. \"The doctor was looking at your pickles.\"\\n', additional_kwargs={}, response_metadata={'token_usage': ChatCompletionOutputUsage(completion_tokens=444, prompt_tokens=39, total_tokens=483), 'model': '', 'finish_reason': 'stop'}, id='run-8641a75e-13f0-4aeb-9b9c-eb2e4405596f-0')"
      ]
     },
     "execution_count": 9,
     "metadata": {},
     "output_type": "execute_result"
    }
   ],
   "source": [
    "chain  = prompt | model\n",
    "chain.invoke(\"tell me short joke about doctors.\")"
   ]
  },
  {
   "cell_type": "code",
   "execution_count": 11,
   "metadata": {},
   "outputs": [],
   "source": [
    "from langchain_community.document_loaders import PyPDFLoader, Docx2txtLoader\n",
    "from langchain_text_splitters import RecursiveCharacterTextSplitter\n",
    "from typing import List\n",
    "from langchain_core.documents import Document\n",
    "import os"
   ]
  },
  {
   "cell_type": "code",
   "execution_count": null,
   "metadata": {},
   "outputs": [],
   "source": []
  }
 ],
 "metadata": {
  "kernelspec": {
   "display_name": "venv",
   "language": "python",
   "name": "python3"
  },
  "language_info": {
   "codemirror_mode": {
    "name": "ipython",
    "version": 3
   },
   "file_extension": ".py",
   "mimetype": "text/x-python",
   "name": "python",
   "nbconvert_exporter": "python",
   "pygments_lexer": "ipython3",
   "version": "3.11.4"
  }
 },
 "nbformat": 4,
 "nbformat_minor": 2
}
